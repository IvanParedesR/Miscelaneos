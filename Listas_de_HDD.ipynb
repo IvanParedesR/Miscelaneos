{
 "cells": [
  {
   "cell_type": "code",
   "execution_count": 1,
   "id": "f3c7ba6a",
   "metadata": {},
   "outputs": [],
   "source": [
    "import os\n",
    "import csv\n",
    "from datetime import datetime"
   ]
  },
  {
   "cell_type": "code",
   "execution_count": 6,
   "id": "e6350f7b",
   "metadata": {},
   "outputs": [
    {
     "name": "stdout",
     "output_type": "stream",
     "text": [
      "E:\\\n"
     ]
    }
   ],
   "source": [
    "ruta = os.path.abspath('F:/')\n",
    "print(ruta)"
   ]
  },
  {
   "cell_type": "code",
   "execution_count": 9,
   "id": "dc979701",
   "metadata": {},
   "outputs": [
    {
     "name": "stdout",
     "output_type": "stream",
     "text": [
      "Lista de archivos guardada en 'F:/lista_archivos.csv'\n"
     ]
    }
   ],
   "source": [
    "# Abre un archivo CSV para guardar los datos\n",
    "with open('lista_archivos.csv', 'w', newline='', encoding='utf-8') as file:\n",
    "    writer = csv.writer(file)\n",
    "    writer.writerow(['Nombre', 'Tamaño (bytes)', 'Fecha Modificación', 'Permisos'])\n",
    "\n",
    "    # Recorre todos los archivos y carpetas en la ruta\n",
    "    for root, dirs, files in os.walk(ruta):\n",
    "        for nombre_archivo in files:\n",
    "            ruta_completa = os.path.join(root, nombre_archivo)\n",
    "            # Obtiene las características del archivo\n",
    "            info = os.stat(ruta_completa)\n",
    "            tamaño = info.st_size\n",
    "            fecha_mod = datetime.fromtimestamp(info.st_mtime).strftime('%Y-%m-%d %H:%M:%S')\n",
    "            permisos = oct(info.st_mode)[-3:]\n",
    "\n",
    "            # Escribe los datos en el archivo CSV\n",
    "            writer.writerow([ruta_completa, tamaño, fecha_mod, permisos])\n",
    "\n",
    "print(\"Lista de archivos guardada en 'F:/lista_archivos.csv'\")\n"
   ]
  },
  {
   "cell_type": "code",
   "execution_count": null,
   "id": "75ae8fed",
   "metadata": {},
   "outputs": [],
   "source": []
  }
 ],
 "metadata": {
  "kernelspec": {
   "display_name": "Python 3 (ipykernel)",
   "language": "python",
   "name": "python3"
  },
  "language_info": {
   "codemirror_mode": {
    "name": "ipython",
    "version": 3
   },
   "file_extension": ".py",
   "mimetype": "text/x-python",
   "name": "python",
   "nbconvert_exporter": "python",
   "pygments_lexer": "ipython3",
   "version": "3.11.5"
  }
 },
 "nbformat": 4,
 "nbformat_minor": 5
}
